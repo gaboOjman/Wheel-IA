{
  "nbformat": 4,
  "nbformat_minor": 0,
  "metadata": {
    "colab": {
      "provenance": [],
      "collapsed_sections": [
        "s1ek9_4dlNHw",
        "sFUeRv-jmC9j",
        "_QKoVr7owW4Y",
        "8hMYlFagwl36",
        "-6liZEHNwQjC",
        "_ie4dNPmv4nR"
      ]
    },
    "kernelspec": {
      "name": "python3",
      "display_name": "Python 3"
    },
    "language_info": {
      "name": "python"
    }
  },
  "cells": [
    {
      "cell_type": "markdown",
      "source": [
        "# Prueba de Pathfinding para Wheelliam\n",
        "### Prototipo de algoritmo de pathfinding a base a una imagen con todos sus pixeles blancos o negros, para ser aplicado en el proyecto curricular 'Wheelliam', de la especialidad TIC del colegio ORT Belgrano"
      ],
      "metadata": {
        "id": "s1ek9_4dlNHw"
      }
    },
    {
      "cell_type": "markdown",
      "source": [
        "### Importo las librerias necesarias para facilitar la construccion del algoritmo"
      ],
      "metadata": {
        "id": "sFUeRv-jmC9j"
      }
    },
    {
      "cell_type": "code",
      "execution_count": null,
      "metadata": {
        "id": "iolEami5Udwa"
      },
      "outputs": [],
      "source": [
        "import numpy as np # numpy para las operaciones con matrices, en este caso las imagenes \n",
        "import matplotlib.pyplot as plt # matplotlib para visualizar la imagen\n",
        "import cv2 # OpenCV para manipular y visualizar la imagen\n",
        "from google.colab import files # files de google.colab para subir archivos locales al notebook\n",
        "from google.colab.patches import cv2_imshow # Es un parche que permite usar un metodo muy importante de OpenCV en las notebooks de Google Colab\n"
      ]
    },
    {
      "cell_type": "markdown",
      "source": [
        "### Subo, modifico, y muestro la imagen a analizar"
      ],
      "metadata": {
        "id": "_QKoVr7owW4Y"
      }
    },
    {
      "cell_type": "code",
      "source": [
        "uploaded = files.upload() # Subo la imagen a analizar\n",
        "ogim = cv2.imread(list(uploaded.keys())[0]) \n",
        "# Esta es la imagen original, es el primer indice de las llaves del diccionario 'uploaded',\n",
        "# convertidas a lista, las llaves de ese diccionario son los nombres de los archivos subidos.\n",
        "\n",
        "grayIm = cv2.cvtColor(ogim, cv2.COLOR_BGR2GRAY)\n",
        "# Esta es la imagen convertida a escala de grises, se ve igual ya que sus pixeles ya son blancos o negros,\n",
        "# pero se usan 1/3 de la informacion para representarla. Esto facilita enormemente la aplicacion del \n",
        "\n",
        "cv2_imshow(grayIm)\n",
        "print(grayIm)\n",
        "print(grayIm.shape)\n",
        "print(type(grayIm))\n",
        "\n",
        "# Visualizamos la imagen en escala de grises, al igual que los valores de sus pizeles, su tipo, y su forma\n",
        "\n",
        "plt.imshow(cv2.cvtColor(ogim, cv2.COLOR_BGR2RGB))\n",
        "plt.tick_params(\n",
        "    bottom=False,\n",
        "    left=False,\n",
        "    labelleft=False,\n",
        "    labelbottom=False)\n",
        "\n",
        "# Mostramos la imagen original de forma alternativa con matplotlib, como se puede apreciar,\n",
        "# es igual a la variacion, (el metodo 'plt.imshow' escala la imagen a ese tamaño por defecto)"
      ],
      "metadata": {
        "id": "QeuhkNtCWqwO"
      },
      "execution_count": null,
      "outputs": []
    },
    {
      "cell_type": "markdown",
      "source": [
        "### Adapto la imagen a un formato que el algoritmo comprenda"
      ],
      "metadata": {
        "id": "8hMYlFagwl36"
      }
    },
    {
      "cell_type": "code",
      "source": [
        "map = grayIm//255 # Normalizo la imagen para que sus valores sean 0 o 1, en otras palabras, si la casilla o pixel esta ocupada o no\n",
        "map = np.uint8(map) # Represento el array como uint8 para utilizar la menor cantidad de memoria posible\n",
        "\n",
        "# Invierto los colores de la imagen, este bucle for se puede comentar de no ser necesario dependiendo de la imagen. Esto se hace\n",
        "# porque el algoritmo toma 1, (originalmente 255, (255,255,255), o blanco), como libre, y 0, (0,(0,0,0), negro), como ocupado,\n",
        "# y la imagen utilizada en este ejemplo esta pensada a la inversa.\n",
        "for i, row in enumerate(map): # Itero en la imagen normalizada 'map', (row), y sus indices, (i).\n",
        "  for j, val in enumerate(row): # Itero en las tuplas que componen 'row', (val), y sus indices, (j). \n",
        "    if val == 1: # Si el valor es 1, cambiarlo a 0\n",
        "      map[i][j] = 0\n",
        "    else: # Sino, cambiarlo a 1\n",
        "      map[i][j] = 1\n",
        "\n",
        "# Visualizamos y efectivamente la imagen esta invertida\n",
        "print(type(map[0][0]))\n",
        "print(map)\n",
        "cv2_imshow(map*255) # Multiplicamos por 255 porque la imagen normalizada no puede ser mostrada normalmente"
      ],
      "metadata": {
        "id": "wkzPY1whAols"
      },
      "execution_count": null,
      "outputs": []
    },
    {
      "cell_type": "code",
      "source": [
        "# Importamos la libreria que implementa una eficiente version del algoritmo de pathfinding A*\n",
        "!pip install pathfinding\n",
        "from pathfinding.core.diagonal_movement import DiagonalMovement\n",
        "from pathfinding.core.grid import Grid \n",
        "from pathfinding.finder.a_star import AStarFinder"
      ],
      "metadata": {
        "id": "KP5px_56Kr-D",
        "colab": {
          "base_uri": "https://localhost:8080/"
        },
        "outputId": "9eddc852-24c9-4763-9513-9c7d7c97a5b9"
      },
      "execution_count": null,
      "outputs": [
        {
          "output_type": "stream",
          "name": "stdout",
          "text": [
            "Looking in indexes: https://pypi.org/simple, https://us-python.pkg.dev/colab-wheels/public/simple/\n",
            "Requirement already satisfied: pathfinding in /usr/local/lib/python3.7/dist-packages (1.0.1)\n"
          ]
        }
      ]
    },
    {
      "cell_type": "markdown",
      "source": [
        "### Creamos y ejecutamos el algoritmo en si"
      ],
      "metadata": {
        "id": "-6liZEHNwQjC"
      }
    },
    {
      "cell_type": "code",
      "source": [
        "# Esta es una simple matriz que se puede usar para probar el algoritmo, se debe comentar para usar con imagenes\n",
        "\n",
        "# matrix = [[1,0,1],\n",
        "#           [1,0,1],\n",
        "#           [1,1,1]]\n",
        "# grid = Grid(matrix = matrix)\n",
        "# start = grid.node(0,0)\n",
        "# end = grid.node(2,0)\n",
        "\n",
        "\n",
        "# Creamos un objeto 'grid', un mapa que la libreria puede entender, en base a la matriz que recien se hizo en base a la imagen.\n",
        "# Tambien marcamos el punto de inicio y fin, el algoritmo debe encontrar el mejor camino para llegar de un punto al otro.\n",
        "grid = Grid(matrix=map)\n",
        "start = grid.node(100, 100)\n",
        "end = grid.node(100, 180)\n",
        "\n",
        "# Creamos el objeto 'finder', el algortimo de pathfinding A* que importamos, le especificamos que no se mueva en diagonales para mayor simplicidad\n",
        "finder = AStarFinder(diagonal_movement=DiagonalMovement.never)\n",
        "path, runs = finder.find_path(start, end, grid)\n",
        "\n",
        "# Mostramos los resultados\n",
        "print('operations:', runs, 'path length:', len(path))\n",
        "print(grid.grid_str(path=path, start=start, end=end))"
      ],
      "metadata": {
        "id": "CtcWQqZqLuBL"
      },
      "execution_count": null,
      "outputs": []
    },
    {
      "cell_type": "markdown",
      "source": [
        "### Convertimos el output del algoritmo a instrucciones de 'Izquierda', 'Derecha', 'Arriba', 'Abajo', ( 'L', 'R', 'U', 'D' )"
      ],
      "metadata": {
        "id": "_ie4dNPmv4nR"
      }
    },
    {
      "cell_type": "code",
      "source": [
        "com = []\n",
        "mov_x = False\n",
        "mov_y = False\n",
        "for i, coord in enumerate(path):\n",
        "  # Itero en la lista 'path', siendo 'coord' tuplas de 2 enteros marcando las coordenadas del camino, e 'i' el indice del elemento en la lista\n",
        "  if coord == path[0]:\n",
        "    com.append('S') # Si la coordenada es la primera de la lista la marco como el inicio en la nueva lista\n",
        "  else:\n",
        "    if coord == path[-1]:\n",
        "      com.append('E') # Si es la ultima la marco como el fin del camino y salgo del loop\n",
        "      break\n",
        "    if coord[0] == path[i-1][0]: # Si la coordenada X del elemento actual es igual a la del anterior sabemos que no nos movemos en el eje x en este paso\n",
        "      mov_x = False\n",
        "    else:\n",
        "      mov_x = True # Sino sabemos que si\n",
        "    if coord[1] == path[i-1][1]: # Lo mismo para el eje Y\n",
        "      mov_y = False\n",
        "    else:\n",
        "      mov_y = True\n",
        "    if mov_y and coord[1] > path[i-1][1]: # Si nos movemos en el eje Y, y la coordenada Y del punto actual es mayor a la del anterior, nos movemos hacia abajo en el eje Y ya que el grafico de la lista es positivo hacia abajo\n",
        "      com.append('D')\n",
        "    elif mov_y and coord[1] < path[i-1][1]: # Si la condicion opuesta se cumple, nos movemos hacia arriba\n",
        "      com.append('U')\n",
        "    elif mov_x and coord[0] < path[i-1][0]: # Si nos movemos en el eje X, y la coordenada X del punto actual es menor a la del anterior, nos movemos hacia la izquierda en el eje X ya que el grafico de la lista es positivo hacia la derecha\n",
        "      com.append('L') \n",
        "    elif mov_x and coord[0] > path[i-1][0]: # Si la condicion opuesta se cumple, nos movemos hacia la derecha\n",
        "      com.append('R')"
      ],
      "metadata": {
        "id": "YL1sE17wNJeA"
      },
      "execution_count": null,
      "outputs": []
    }
  ]
}